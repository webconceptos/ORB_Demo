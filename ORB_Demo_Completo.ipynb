{
  "cells": [
    {
      "cell_type": "markdown",
      "id": "79bbe5b1",
      "metadata": {
        "id": "79bbe5b1"
      },
      "source": [
        "# 🌟 ORB Feature Detection - Demostración Completa\n",
        "Este notebook demuestra el uso del detector ORB incluyendo:\n",
        "1. Visualización de puntos clave\n",
        "2. Invarianza a la rotación\n",
        "3. Comparación de velocidad con SIFT\n",
        "4. Stitching panorámico básico\n",
        "5. Comparación visual con otros detectores\n",
        "6. Aplicación potencial en SLAM\n"
      ]
    },
    {
      "cell_type": "code",
      "execution_count": 1,
      "id": "3371fd79",
      "metadata": {
        "id": "3371fd79"
      },
      "outputs": [],
      "source": [
        "\n",
        "import cv2\n",
        "import numpy as np\n",
        "import matplotlib.pyplot as plt\n",
        "import time\n",
        "\n",
        "def show_img(img, title=''):\n",
        "    plt.imshow(img, cmap='gray')\n",
        "    plt.title(title)\n",
        "    plt.axis('off')\n",
        "    plt.show()\n"
      ]
    },
    {
      "cell_type": "code",
      "execution_count": null,
      "id": "51c584da",
      "metadata": {
        "id": "51c584da"
      },
      "outputs": [],
      "source": [
        "\n",
        "img = cv2.imread('edificio.jpg', cv2.IMREAD_GRAYSCALE)\n",
        "img_rot = cv2.imread('edificio_rotado.jpg', cv2.IMREAD_GRAYSCALE)\n",
        "img1 = cv2.imread('paisaje1.jpg', cv2.IMREAD_GRAYSCALE)\n",
        "img2 = cv2.imread('paisaje2.jpg', cv2.IMREAD_GRAYSCALE)\n"
      ]
    },
    {
      "cell_type": "code",
      "execution_count": null,
      "id": "1061fe38",
      "metadata": {
        "id": "1061fe38"
      },
      "outputs": [],
      "source": [
        "\n",
        "orb = cv2.ORB_create()\n",
        "kp = orb.detect(img, None)\n",
        "img_kp = cv2.drawKeypoints(img, kp, None, color=(0,255,0))\n",
        "show_img(img_kp, 'Puntos clave detectados con ORB')\n"
      ]
    },
    {
      "cell_type": "code",
      "execution_count": null,
      "id": "99855d95",
      "metadata": {
        "id": "99855d95"
      },
      "outputs": [],
      "source": [
        "\n",
        "kp1, des1 = orb.detectAndCompute(img, None)\n",
        "kp2, des2 = orb.detectAndCompute(img_rot, None)\n",
        "bf = cv2.BFMatcher(cv2.NORM_HAMMING, crossCheck=True)\n",
        "matches = bf.match(des1, des2)\n",
        "matches = sorted(matches, key=lambda x: x.distance)\n",
        "matched_rot = cv2.drawMatches(img, kp1, img_rot, kp2, matches[:20], None, flags=2)\n",
        "show_img(matched_rot, 'Invarianza a la rotación (ORB)')\n"
      ]
    },
    {
      "cell_type": "code",
      "execution_count": null,
      "id": "14fec1fb",
      "metadata": {
        "id": "14fec1fb"
      },
      "outputs": [],
      "source": [
        "\n",
        "sift = cv2.SIFT_create()\n",
        "start = time.time()\n",
        "kp_orb, des_orb = orb.detectAndCompute(img, None)\n",
        "orb_time = time.time() - start\n",
        "\n",
        "start = time.time()\n",
        "kp_sift, des_sift = sift.detectAndCompute(img, None)\n",
        "sift_time = time.time() - start\n",
        "\n",
        "print(f\"Tiempo ORB: {orb_time:.4f}s\")\n",
        "print(f\"Tiempo SIFT: {sift_time:.4f}s\")\n"
      ]
    },
    {
      "cell_type": "code",
      "execution_count": null,
      "id": "40dde178",
      "metadata": {
        "id": "40dde178"
      },
      "outputs": [],
      "source": [
        "\n",
        "kp1, des1 = orb.detectAndCompute(img1, None)\n",
        "kp2, des2 = orb.detectAndCompute(img2, None)\n",
        "matches = bf.match(des1, des2)\n",
        "src_pts = np.float32([kp1[m.queryIdx].pt for m in matches]).reshape(-1,1,2)\n",
        "dst_pts = np.float32([kp2[m.trainIdx].pt for m in matches]).reshape(-1,1,2)\n",
        "H, _ = cv2.findHomography(src_pts, dst_pts, cv2.RANSAC, 5.0)\n",
        "result = cv2.warpPerspective(img1, H, (img1.shape[1]+img2.shape[1], img1.shape[0]))\n",
        "result[0:img2.shape[0], 0:img2.shape[1]] = img2\n",
        "show_img(result, 'Panorama con ORB')\n"
      ]
    },
    {
      "cell_type": "code",
      "execution_count": null,
      "id": "74cef431",
      "metadata": {
        "id": "74cef431"
      },
      "outputs": [],
      "source": [
        "\n",
        "sift_kp = cv2.drawKeypoints(img, sift.detect(img, None), None, color=(255,0,0))\n",
        "show_img(sift_kp, 'Puntos clave detectados con SIFT (comparación)')\n"
      ]
    },
    {
      "cell_type": "code",
      "execution_count": null,
      "id": "ddbbd045",
      "metadata": {
        "id": "ddbbd045"
      },
      "outputs": [],
      "source": [
        "\n",
        "# Simulamos 2 frames de un SLAM básico\n",
        "kp1, des1 = orb.detectAndCompute(img1, None)\n",
        "kp2, des2 = orb.detectAndCompute(img2, None)\n",
        "matches = bf.match(des1, des2)\n",
        "matches = sorted(matches, key=lambda x: x.distance)\n",
        "slam_sim = cv2.drawMatches(img1, kp1, img2, kp2, matches[:20], None, flags=2)\n",
        "show_img(slam_sim, 'Simulación de SLAM con ORB (frame to frame matching)')\n"
      ]
    },
    {
      "cell_type": "markdown",
      "id": "89217375",
      "metadata": {
        "id": "89217375"
      },
      "source": [
        "## 🚶‍♂️ Simulación de Movimiento tipo SLAM con Múltiples Frames"
      ]
    },
    {
      "cell_type": "code",
      "execution_count": null,
      "id": "0ed08d2f",
      "metadata": {
        "id": "0ed08d2f"
      },
      "outputs": [],
      "source": [
        "\n",
        "import cv2\n",
        "import numpy as np\n",
        "import matplotlib.pyplot as plt\n",
        "\n",
        "orb = cv2.ORB_create()\n",
        "bf = cv2.BFMatcher(cv2.NORM_HAMMING, crossCheck=True)\n",
        "\n",
        "frames = []\n",
        "for i in range(1, 6):\n",
        "    frame = cv2.imread(f'frame_{i}.jpg', cv2.IMREAD_GRAYSCALE)\n",
        "    frames.append(frame)\n",
        "\n",
        "for i in range(len(frames) - 1):\n",
        "    img1 = frames[i]\n",
        "    img2 = frames[i + 1]\n",
        "\n",
        "    kp1, des1 = orb.detectAndCompute(img1, None)\n",
        "    kp2, des2 = orb.detectAndCompute(img2, None)\n",
        "    matches = bf.match(des1, des2)\n",
        "    matches = sorted(matches, key=lambda x: x.distance)\n",
        "\n",
        "    matched = cv2.drawMatches(img1, kp1, img2, kp2, matches[:20], None, flags=2)\n",
        "    plt.imshow(matched)\n",
        "    plt.title(f'Matching Frame {i+1} -> Frame {i+2}')\n",
        "    plt.axis('off')\n",
        "    plt.show()\n"
      ]
    },
    {
      "cell_type": "markdown",
      "id": "89d2a6ee",
      "metadata": {
        "id": "89d2a6ee"
      },
      "source": [
        "### 🎞️ Animación del proceso tipo SLAM"
      ]
    },
    {
      "cell_type": "code",
      "execution_count": null,
      "id": "bcce7296",
      "metadata": {
        "id": "bcce7296"
      },
      "outputs": [],
      "source": [
        "from IPython.display import Image\n",
        "Image(filename=\"SLAM_robot_simulacion_flecha_fija.gif\")"
      ]
    }
  ],
  "metadata": {
    "colab": {
      "provenance": []
    },
    "language_info": {
      "name": "python"
    },
    "kernelspec": {
      "name": "python3",
      "display_name": "Python 3"
    }
  },
  "nbformat": 4,
  "nbformat_minor": 5
}